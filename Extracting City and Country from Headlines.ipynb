{
 "cells": [
  {
   "cell_type": "markdown",
   "metadata": {},
   "source": [
    "### Steps\n",
    "\n",
    "1. Load in the headline data and examine it for any data quality issues.\n",
    "  * Use any library/data structure to read in the headlines.\n",
    "  * Read through some of the headlines and identify potential problems.\n",
    "1. Using regular expressions and the cities and countries within the `geonamescache` library, match any cities/countries within each headline.\n",
    "  * Make sure to normalize headlines and city/country names by removing accent marks. This can be done with the `unidecode` library.\n",
    "  * Watch out for multiple cities in a headline and matches on short words! We want the match to be on the entire city—for example San Marino—and not a partial match—San.\n",
    "1. Put the extracted data into a pandas `DataFrame` with three columns: `headline, city, country`.\n",
    "1. Make sure there were no issues with the extraction by sampling some of the headlines and examining the city and country names.\n",
    "  * One method for finding problems is to look for the most common names and see if there are any issues.\n",
    "1. Once you are confident you’ve found all the cities/countries in each headline, save the DataFrame for the next part."
   ]
  },
  {
   "cell_type": "code",
   "execution_count": null,
   "metadata": {},
   "outputs": [],
   "source": [
    "### References\n",
    "\n",
    "* https://pypi.org/project/geonamescache/"
   ]
  },
  {
   "cell_type": "code",
   "execution_count": 84,
   "metadata": {},
   "outputs": [],
   "source": [
    "import os\n",
    "import urllib.request\n",
    "import pandas as pd\n",
    "import re\n",
    "import geonamescache\n",
    "from unidecode import unidecode\n",
    "from typing import List\n",
    "\n"
   ]
  },
  {
   "cell_type": "code",
   "execution_count": 25,
   "metadata": {},
   "outputs": [],
   "source": [
    "HEADLINES = 'https://livevideo-resources.s3-us-west-2.amazonaws.com/course-data/93/headlines.txt'\n",
    "HD_LOCAL  = 'data/headlines.txt'"
   ]
  },
  {
   "cell_type": "code",
   "execution_count": 26,
   "metadata": {},
   "outputs": [],
   "source": [
    "os.makedirs('./data', exist_ok=True)"
   ]
  },
  {
   "cell_type": "code",
   "execution_count": 27,
   "metadata": {},
   "outputs": [
    {
     "data": {
      "text/plain": [
       "('data/headlines.txt', <http.client.HTTPMessage at 0x7fad647b9400>)"
      ]
     },
     "execution_count": 27,
     "metadata": {},
     "output_type": "execute_result"
    }
   ],
   "source": [
    "urllib.request.urlretrieve(HEADLINES, HD_LOCAL)"
   ]
  },
  {
   "cell_type": "code",
   "execution_count": 28,
   "metadata": {},
   "outputs": [],
   "source": [
    "headlines_list = [lines.strip() for lines in open(HD_LOCAL)]"
   ]
  },
  {
   "cell_type": "code",
   "execution_count": 29,
   "metadata": {},
   "outputs": [
    {
     "data": {
      "text/plain": [
       "['Zika Outbreak Hits Miami',\n",
       " 'Could Zika Reach New York City?',\n",
       " 'First Case of Zika in Miami Beach',\n",
       " 'Mystery Virus Spreads in Recife, Brazil',\n",
       " 'Dallas man comes down with case of Zika',\n",
       " 'Trinidad confirms first Zika case',\n",
       " 'Zika Concerns are Spreading in Houston',\n",
       " 'Geneve Scientists Battle to Find Cure',\n",
       " 'The CDC in Atlanta is Growing Worried',\n",
       " 'Zika Infested Monkeys in Sao Paulo']"
      ]
     },
     "execution_count": 29,
     "metadata": {},
     "output_type": "execute_result"
    }
   ],
   "source": [
    "headlines_list[:10]"
   ]
  },
  {
   "cell_type": "code",
   "execution_count": 30,
   "metadata": {},
   "outputs": [
    {
     "data": {
      "text/plain": [
       "['Authorities are Worried about the Spread of Varicella in Clovis',\n",
       " 'More Zika patients reported in Fort Worth',\n",
       " 'Zika symptoms spotted in Boynton Beach',\n",
       " 'Outbreak of Zika in Portoviejo',\n",
       " 'Influenza Exposure in Muscat',\n",
       " 'Rumors about Rabies spreading in Jerusalem have been refuted',\n",
       " 'More Zika patients reported in Indang',\n",
       " 'Suva authorities confirmed the spread of Rotavirus',\n",
       " 'More Zika patients reported in Bella Vista',\n",
       " 'Zika Outbreak in Wichita Falls']"
      ]
     },
     "execution_count": 30,
     "metadata": {},
     "output_type": "execute_result"
    }
   ],
   "source": [
    "headlines_list[-10:]"
   ]
  },
  {
   "cell_type": "code",
   "execution_count": 31,
   "metadata": {},
   "outputs": [],
   "source": [
    "zika_headlines = [hl for hl in headlines_list if re.search(r'zika', hl, re.I)]\n",
    "flu_headlines = [hl for hl in headlines_list if re.search(r'flu', hl, re.I)]"
   ]
  },
  {
   "cell_type": "code",
   "execution_count": 32,
   "metadata": {},
   "outputs": [
    {
     "data": {
      "text/plain": [
       "227"
      ]
     },
     "execution_count": 32,
     "metadata": {},
     "output_type": "execute_result"
    }
   ],
   "source": [
    "len(zika_headlines)"
   ]
  },
  {
   "cell_type": "code",
   "execution_count": 33,
   "metadata": {},
   "outputs": [
    {
     "data": {
      "text/plain": [
       "28"
      ]
     },
     "execution_count": 33,
     "metadata": {},
     "output_type": "execute_result"
    }
   ],
   "source": [
    "len(flu_headlines)"
   ]
  },
  {
   "cell_type": "code",
   "execution_count": 34,
   "metadata": {},
   "outputs": [
    {
     "data": {
      "text/plain": [
       "650"
      ]
     },
     "execution_count": 34,
     "metadata": {},
     "output_type": "execute_result"
    }
   ],
   "source": [
    "len(headlines_list)"
   ]
  },
  {
   "cell_type": "markdown",
   "metadata": {},
   "source": [
    "### Possible Issues\n",
    "\n",
    "* way unbalanced with respect to disease. \n",
    "* Some headlines with no locations\n",
    "   - 'The CDC in Atlanta is Growing Worried'"
   ]
  },
  {
   "cell_type": "markdown",
   "metadata": {},
   "source": [
    "### Parse out Cities and Countries"
   ]
  },
  {
   "cell_type": "code",
   "execution_count": 85,
   "metadata": {},
   "outputs": [],
   "source": [
    "#convert to ascii\n",
    "headlines_list = [ unidecode(hl) for hl in headlines_list]"
   ]
  },
  {
   "cell_type": "code",
   "execution_count": 4,
   "metadata": {},
   "outputs": [],
   "source": [
    "gc = geonamescache.GeonamesCache() "
   ]
  },
  {
   "cell_type": "code",
   "execution_count": 86,
   "metadata": {},
   "outputs": [],
   "source": [
    "city_names = [ unidecode(v['name']) for v in gc.get_cities().values() ]\n",
    "city_names.sort() # alphabetical order (doesn't really matter)\n",
    "city_names.sort(key=len, reverse=True)"
   ]
  },
  {
   "cell_type": "code",
   "execution_count": 87,
   "metadata": {},
   "outputs": [],
   "source": [
    "country_names = [ unidecode(v['name']) for v in gc.get_countries().values() ]\n",
    "country_names.sort() # alphabetical order (doesn't really matter)\n",
    "country_names.sort(key=len, reverse=True)"
   ]
  },
  {
   "cell_type": "code",
   "execution_count": 50,
   "metadata": {},
   "outputs": [
    {
     "data": {
      "text/plain": [
       "['South Georgia and the South Sandwich Islands',\n",
       " 'United States Minor Outlying Islands',\n",
       " 'Bonaire, Saint Eustatius and Saba ',\n",
       " 'Heard Island and McDonald Islands',\n",
       " 'Democratic Republic of the Congo',\n",
       " 'Saint Vincent and the Grenadines',\n",
       " 'British Indian Ocean Territory',\n",
       " 'French Southern Territories',\n",
       " 'Saint Pierre and Miquelon',\n",
       " 'Central African Republic',\n",
       " 'Northern Mariana Islands',\n",
       " 'Turks and Caicos Islands',\n",
       " 'Bosnia and Herzegovina',\n",
       " 'British Virgin Islands',\n",
       " 'Svalbard and Jan Mayen',\n",
       " 'Palestinian Territory',\n",
       " 'Republic of the Congo',\n",
       " 'Saint Kitts and Nevis',\n",
       " 'Sao Tome and Principe',\n",
       " 'Serbia and Montenegro']"
      ]
     },
     "execution_count": 50,
     "metadata": {},
     "output_type": "execute_result"
    }
   ],
   "source": [
    "country_names[:20]"
   ]
  },
  {
   "cell_type": "code",
   "execution_count": 54,
   "metadata": {},
   "outputs": [
    {
     "data": {
      "text/plain": [
       "['Chak Two Hundred Forty-nine Thal Development Authority',\n",
       " 'Dolores Hidalgo Cuna de la Independencia Nacional',\n",
       " 'Ampliación San Mateo (Colonia Solidaridad)',\n",
       " 'Licenciado Benito Juárez (Campo Gobierno)',\n",
       " 'Sant Pere, Santa Caterina i La Ribera',\n",
       " 'Nanchital de Lázaro Cárdenas del Río',\n",
       " 'Palikir - National Government Center',\n",
       " 'San Fernando del Valle de Catamarca',\n",
       " 'San Martin Texmelucan de Labastida',\n",
       " \"el Camp d'en Grassot i Gràcia Nova\",\n",
       " 'Acilia-Castel Fusano-Ostia Antica',\n",
       " 'Chak One Hundred Twenty Nine Left',\n",
       " 'Brandýs nad Labem-Stará Boleslav',\n",
       " 'Delegación Cuajimalpa de Morelos',\n",
       " 'Montecchio Maggiore-Alte Ceccato',\n",
       " 'Rosignano Solvay-Castiglioncello',\n",
       " 'Socorro Mission Number 1 Colonia',\n",
       " 'Sydney Central Business District',\n",
       " 'Jardines de la Silla (Jardines)',\n",
       " 'Marina di Ardea-Tor San Lorenzo']"
      ]
     },
     "execution_count": 54,
     "metadata": {},
     "output_type": "execute_result"
    }
   ],
   "source": [
    "city_names[:20]"
   ]
  },
  {
   "cell_type": "code",
   "execution_count": 65,
   "metadata": {},
   "outputs": [
    {
     "name": "stdout",
     "output_type": "stream",
     "text": [
      "New York City\n"
     ]
    }
   ],
   "source": [
    "#debugging\n",
    "#city_names.insert(0, 'New York City')\n",
    "print(entity_in_headline(headlines_list[1], city_names))\n"
   ]
  },
  {
   "cell_type": "code",
   "execution_count": 89,
   "metadata": {},
   "outputs": [],
   "source": [
    "#use the same index as headlines_list\n",
    "cities_found = list()\n",
    "countries_found = list()\n",
    "\n",
    "for h in headlines_list:\n",
    "    cities_found.append(entity_in_headline(h, city_names))\n",
    "    countries_found.append(entity_in_headline(h, country_names))\n"
   ]
  },
  {
   "cell_type": "code",
   "execution_count": 88,
   "metadata": {},
   "outputs": [],
   "source": [
    "def entity_in_headline(h: str, names_list: list) -> str:\n",
    "    for c in names_list:\n",
    "        pat = r'\\b{}\\b'.format(c)\n",
    "        if re.search(pat, h): #this takes a long time (~10 mins)\n",
    "        #if h.find(c) != -1: #should use re here with word boundaries. \n",
    "            return c\n",
    "    return ''"
   ]
  },
  {
   "cell_type": "code",
   "execution_count": 90,
   "metadata": {},
   "outputs": [
    {
     "data": {
      "text/plain": [
       "['Miami',\n",
       " 'New York City',\n",
       " 'Miami Beach',\n",
       " 'Recife',\n",
       " 'Dallas',\n",
       " 'Trinidad',\n",
       " 'Houston',\n",
       " 'Geneve',\n",
       " 'Atlanta',\n",
       " 'Sao Paulo',\n",
       " 'Brownsville',\n",
       " 'St. Louis',\n",
       " 'San Juan',\n",
       " 'Galveston',\n",
       " 'Manila']"
      ]
     },
     "execution_count": 90,
     "metadata": {},
     "output_type": "execute_result"
    }
   ],
   "source": [
    "# TODO: Should also be matching only at word boundaries \"Man\" vs \"Manila\"\n",
    "cities_found[:15]"
   ]
  },
  {
   "cell_type": "code",
   "execution_count": 47,
   "metadata": {},
   "outputs": [
    {
     "data": {
      "text/plain": [
       "['Zika Outbreak Hits Miami',\n",
       " 'Could Zika Reach New York City?',\n",
       " 'First Case of Zika in Miami Beach',\n",
       " 'Mystery Virus Spreads in Recife, Brazil',\n",
       " 'Dallas man comes down with case of Zika',\n",
       " 'Trinidad confirms first Zika case',\n",
       " 'Zika Concerns are Spreading in Houston',\n",
       " 'Geneve Scientists Battle to Find Cure',\n",
       " 'The CDC in Atlanta is Growing Worried',\n",
       " 'Zika Infested Monkeys in Sao Paulo',\n",
       " 'Brownsville teen contracts Zika virus',\n",
       " 'Mosquito control efforts in St. Louis take new tactics with Zika threat',\n",
       " 'San Juan reports 1st U.S. Zika-related death amid outbreak',\n",
       " 'Flu outbreak in Galveston, Texas',\n",
       " 'Zika alert – Manila now threatened']"
      ]
     },
     "execution_count": 47,
     "metadata": {},
     "output_type": "execute_result"
    }
   ],
   "source": [
    "headlines_list[:15]"
   ]
  },
  {
   "cell_type": "markdown",
   "metadata": {},
   "source": [
    "### Create the Data Frame"
   ]
  },
  {
   "cell_type": "code",
   "execution_count": 92,
   "metadata": {},
   "outputs": [
    {
     "data": {
      "text/html": [
       "<div>\n",
       "<style scoped>\n",
       "    .dataframe tbody tr th:only-of-type {\n",
       "        vertical-align: middle;\n",
       "    }\n",
       "\n",
       "    .dataframe tbody tr th {\n",
       "        vertical-align: top;\n",
       "    }\n",
       "\n",
       "    .dataframe thead th {\n",
       "        text-align: right;\n",
       "    }\n",
       "</style>\n",
       "<table border=\"1\" class=\"dataframe\">\n",
       "  <thead>\n",
       "    <tr style=\"text-align: right;\">\n",
       "      <th></th>\n",
       "      <th>Headline</th>\n",
       "      <th>City</th>\n",
       "      <th>Country</th>\n",
       "    </tr>\n",
       "  </thead>\n",
       "  <tbody>\n",
       "    <tr>\n",
       "      <th>0</th>\n",
       "      <td>Zika Outbreak Hits Miami</td>\n",
       "      <td>Miami</td>\n",
       "      <td></td>\n",
       "    </tr>\n",
       "    <tr>\n",
       "      <th>1</th>\n",
       "      <td>Could Zika Reach New York City?</td>\n",
       "      <td>New York City</td>\n",
       "      <td></td>\n",
       "    </tr>\n",
       "    <tr>\n",
       "      <th>2</th>\n",
       "      <td>First Case of Zika in Miami Beach</td>\n",
       "      <td>Miami Beach</td>\n",
       "      <td></td>\n",
       "    </tr>\n",
       "    <tr>\n",
       "      <th>3</th>\n",
       "      <td>Mystery Virus Spreads in Recife, Brazil</td>\n",
       "      <td>Recife</td>\n",
       "      <td>Brazil</td>\n",
       "    </tr>\n",
       "    <tr>\n",
       "      <th>4</th>\n",
       "      <td>Dallas man comes down with case of Zika</td>\n",
       "      <td>Dallas</td>\n",
       "      <td></td>\n",
       "    </tr>\n",
       "    <tr>\n",
       "      <th>...</th>\n",
       "      <td>...</td>\n",
       "      <td>...</td>\n",
       "      <td>...</td>\n",
       "    </tr>\n",
       "    <tr>\n",
       "      <th>645</th>\n",
       "      <td>Rumors about Rabies spreading in Jerusalem hav...</td>\n",
       "      <td>Jerusalem</td>\n",
       "      <td></td>\n",
       "    </tr>\n",
       "    <tr>\n",
       "      <th>646</th>\n",
       "      <td>More Zika patients reported in Indang</td>\n",
       "      <td>Indang</td>\n",
       "      <td></td>\n",
       "    </tr>\n",
       "    <tr>\n",
       "      <th>647</th>\n",
       "      <td>Suva authorities confirmed the spread of Rotav...</td>\n",
       "      <td>Suva</td>\n",
       "      <td></td>\n",
       "    </tr>\n",
       "    <tr>\n",
       "      <th>648</th>\n",
       "      <td>More Zika patients reported in Bella Vista</td>\n",
       "      <td>Bella Vista</td>\n",
       "      <td></td>\n",
       "    </tr>\n",
       "    <tr>\n",
       "      <th>649</th>\n",
       "      <td>Zika Outbreak in Wichita Falls</td>\n",
       "      <td>Wichita Falls</td>\n",
       "      <td></td>\n",
       "    </tr>\n",
       "  </tbody>\n",
       "</table>\n",
       "<p>650 rows × 3 columns</p>\n",
       "</div>"
      ],
      "text/plain": [
       "                                              Headline           City Country\n",
       "0                             Zika Outbreak Hits Miami          Miami        \n",
       "1                      Could Zika Reach New York City?  New York City        \n",
       "2                    First Case of Zika in Miami Beach    Miami Beach        \n",
       "3              Mystery Virus Spreads in Recife, Brazil         Recife  Brazil\n",
       "4              Dallas man comes down with case of Zika         Dallas        \n",
       "..                                                 ...            ...     ...\n",
       "645  Rumors about Rabies spreading in Jerusalem hav...      Jerusalem        \n",
       "646              More Zika patients reported in Indang         Indang        \n",
       "647  Suva authorities confirmed the spread of Rotav...           Suva        \n",
       "648         More Zika patients reported in Bella Vista    Bella Vista        \n",
       "649                     Zika Outbreak in Wichita Falls  Wichita Falls        \n",
       "\n",
       "[650 rows x 3 columns]"
      ]
     },
     "execution_count": 92,
     "metadata": {},
     "output_type": "execute_result"
    }
   ],
   "source": [
    "pd.DataFrame(list(zip(headlines_list, cities_found, countries_found)), columns=['Headline', 'City', 'Country'])"
   ]
  },
  {
   "cell_type": "code",
   "execution_count": null,
   "metadata": {},
   "outputs": [],
   "source": []
  }
 ],
 "metadata": {
  "kernelspec": {
   "display_name": "Python 3",
   "language": "python",
   "name": "python3"
  },
  "language_info": {
   "codemirror_mode": {
    "name": "ipython",
    "version": 3
   },
   "file_extension": ".py",
   "mimetype": "text/x-python",
   "name": "python",
   "nbconvert_exporter": "python",
   "pygments_lexer": "ipython3",
   "version": "3.6.9"
  }
 },
 "nbformat": 4,
 "nbformat_minor": 2
}
