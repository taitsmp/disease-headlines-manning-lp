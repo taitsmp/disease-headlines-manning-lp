{
 "cells": [
  {
   "cell_type": "markdown",
   "metadata": {},
   "source": [
    "### Steps\n",
    "\n",
    "1. Load in the headline data and examine it for any data quality issues.\n",
    "  * Use any library/data structure to read in the headlines.\n",
    "  * Read through some of the headlines and identify potential problems.\n",
    "1. Using regular expressions and the cities and countries within the `geonamescache` library, match any cities/countries within each headline.\n",
    "  * Make sure to normalize headlines and city/country names by removing accent marks. This can be done with the unidecode library.\n",
    "  * Watch out for multiple cities in a headline and matches on short words! We want the match to be on the entire city—for example San Marino—and not a partial match—San.\n",
    "1. Put the extracted data into a pandas `DataFrame` with three columns: `headline, city, country`.\n",
    "1. Make sure there were no issues with the extraction by sampling some of the headlines and examining the city and country names.\n",
    "  * One method for finding problems is to look for the most common names and see if there are any issues.\n",
    "1. Once you are confident you’ve found all the cities/countries in each headline, save the DataFrame for the next part."
   ]
  },
  {
   "cell_type": "code",
   "execution_count": 11,
   "metadata": {},
   "outputs": [],
   "source": [
    "import os\n",
    "import urllib.request\n",
    "import pandas as pd\n",
    "import re\n",
    "\n"
   ]
  },
  {
   "cell_type": "code",
   "execution_count": 3,
   "metadata": {},
   "outputs": [],
   "source": [
    "HEADLINES = 'https://livevideo-resources.s3-us-west-2.amazonaws.com/course-data/93/headlines.txt'\n",
    "HD_LOCAL  = 'data/headlines.txt'"
   ]
  },
  {
   "cell_type": "code",
   "execution_count": 2,
   "metadata": {},
   "outputs": [],
   "source": [
    "os.makedirs('./data', exist_ok=True)"
   ]
  },
  {
   "cell_type": "code",
   "execution_count": 4,
   "metadata": {},
   "outputs": [
    {
     "data": {
      "text/plain": [
       "('data/headlines.txt', <http.client.HTTPMessage at 0x7f5347005588>)"
      ]
     },
     "execution_count": 4,
     "metadata": {},
     "output_type": "execute_result"
    }
   ],
   "source": [
    "urllib.request.urlretrieve(HEADLINES, HD_LOCAL)"
   ]
  },
  {
   "cell_type": "code",
   "execution_count": 5,
   "metadata": {},
   "outputs": [],
   "source": [
    "headlines_list = [lines.strip() for lines in open(HD_LOCAL)]"
   ]
  },
  {
   "cell_type": "code",
   "execution_count": 8,
   "metadata": {},
   "outputs": [
    {
     "data": {
      "text/plain": [
       "['Zika Outbreak Hits Miami',\n",
       " 'Could Zika Reach New York City?',\n",
       " 'First Case of Zika in Miami Beach',\n",
       " 'Mystery Virus Spreads in Recife, Brazil',\n",
       " 'Dallas man comes down with case of Zika',\n",
       " 'Trinidad confirms first Zika case',\n",
       " 'Zika Concerns are Spreading in Houston',\n",
       " 'Geneve Scientists Battle to Find Cure',\n",
       " 'The CDC in Atlanta is Growing Worried',\n",
       " 'Zika Infested Monkeys in Sao Paulo']"
      ]
     },
     "execution_count": 8,
     "metadata": {},
     "output_type": "execute_result"
    }
   ],
   "source": [
    "headlines_list[:10]"
   ]
  },
  {
   "cell_type": "code",
   "execution_count": 10,
   "metadata": {},
   "outputs": [
    {
     "data": {
      "text/plain": [
       "['Authorities are Worried about the Spread of Varicella in Clovis',\n",
       " 'More Zika patients reported in Fort Worth',\n",
       " 'Zika symptoms spotted in Boynton Beach',\n",
       " 'Outbreak of Zika in Portoviejo',\n",
       " 'Influenza Exposure in Muscat',\n",
       " 'Rumors about Rabies spreading in Jerusalem have been refuted',\n",
       " 'More Zika patients reported in Indang',\n",
       " 'Suva authorities confirmed the spread of Rotavirus',\n",
       " 'More Zika patients reported in Bella Vista',\n",
       " 'Zika Outbreak in Wichita Falls']"
      ]
     },
     "execution_count": 10,
     "metadata": {},
     "output_type": "execute_result"
    }
   ],
   "source": [
    "headlines_list[-10:]"
   ]
  },
  {
   "cell_type": "code",
   "execution_count": 16,
   "metadata": {},
   "outputs": [],
   "source": [
    "zika_headlines = [hl for hl in headlines_list if re.search(r'zika', hl, re.I)]\n",
    "flu_headlines = [hl for hl in headlines_list if re.search(r'flu', hl, re.I)]"
   ]
  },
  {
   "cell_type": "code",
   "execution_count": 14,
   "metadata": {},
   "outputs": [
    {
     "data": {
      "text/plain": [
       "227"
      ]
     },
     "execution_count": 14,
     "metadata": {},
     "output_type": "execute_result"
    }
   ],
   "source": [
    "len(zika_headlines)"
   ]
  },
  {
   "cell_type": "code",
   "execution_count": 17,
   "metadata": {},
   "outputs": [
    {
     "data": {
      "text/plain": [
       "28"
      ]
     },
     "execution_count": 17,
     "metadata": {},
     "output_type": "execute_result"
    }
   ],
   "source": [
    "len(flu_headlines)"
   ]
  },
  {
   "cell_type": "code",
   "execution_count": 15,
   "metadata": {},
   "outputs": [
    {
     "data": {
      "text/plain": [
       "650"
      ]
     },
     "execution_count": 15,
     "metadata": {},
     "output_type": "execute_result"
    }
   ],
   "source": [
    "len(headlines_list)"
   ]
  },
  {
   "cell_type": "markdown",
   "metadata": {},
   "source": [
    "### Possible Issues\n",
    "\n",
    "* way unbalanced with respect to disease. \n",
    "* Some headlines with no locations\n",
    "   - 'The CDC in Atlanta is Growing Worried'"
   ]
  },
  {
   "cell_type": "code",
   "execution_count": null,
   "metadata": {},
   "outputs": [],
   "source": []
  }
 ],
 "metadata": {
  "kernelspec": {
   "display_name": "Python 3",
   "language": "python",
   "name": "python3"
  },
  "language_info": {
   "codemirror_mode": {
    "name": "ipython",
    "version": 3
   },
   "file_extension": ".py",
   "mimetype": "text/x-python",
   "name": "python",
   "nbconvert_exporter": "python",
   "pygments_lexer": "ipython3",
   "version": "3.6.9"
  }
 },
 "nbformat": 4,
 "nbformat_minor": 2
}
