{
 "cells": [
  {
   "cell_type": "markdown",
   "metadata": {},
   "source": [
    "### Steps\n",
    "\n",
    "1. Load in the pandas DataFrame with headline, countries, and cities.\n",
    "  + If a headline contains multiple cities/countries, decide which single one to keep.\n",
    "2. For each city/country, match the name to the latitude and longitude in `geonamescache`.\n",
    "  + You can use the function `gc.get_cities_by_names_` `_(“city_name”)`.\n",
    "  + Some cities will return multiple matches with the previous function in different countries. You’ll have to decide which city to keep based on a heuristic (rule of thumb).\n",
    "  + If you have trouble, work with a single problematic city until you figure it out, then write a function to apply on all headlines.\n",
    "3. Add longitude and latitude coordinates to your DataFrame for each headline.\n",
    "  + It will be helpful to get the `countrycode` of each headline at this point.\n",
    "  + If you were not able to find many countries, think about **dropping the column**. You also need to decide what to do with headlines that have no coordinates.\n",
    "  + You should end up with over 600 headlines that have geographic coordinates."
   ]
  },
  {
   "cell_type": "markdown",
   "metadata": {},
   "source": [
    "### Questions\n",
    "\n",
    "* What does \"dropping the column\" mean? \n"
   ]
  },
  {
   "cell_type": "code",
   "execution_count": 1,
   "metadata": {},
   "outputs": [],
   "source": [
    "import pandas as pd\n",
    "import re\n",
    "import geonamescache"
   ]
  },
  {
   "cell_type": "code",
   "execution_count": 6,
   "metadata": {},
   "outputs": [],
   "source": [
    "gc = geonamescache.GeonamesCache() "
   ]
  },
  {
   "cell_type": "code",
   "execution_count": 3,
   "metadata": {},
   "outputs": [],
   "source": [
    "DF_PICK = './data/headlines_cities_countries.pkl'"
   ]
  },
  {
   "cell_type": "code",
   "execution_count": 4,
   "metadata": {},
   "outputs": [],
   "source": [
    "df = pd.read_pickle(DF_PICK)"
   ]
  },
  {
   "cell_type": "code",
   "execution_count": null,
   "metadata": {},
   "outputs": [],
   "source": []
  },
  {
   "cell_type": "markdown",
   "metadata": {},
   "source": [
    "### Testing"
   ]
  },
  {
   "cell_type": "code",
   "execution_count": 7,
   "metadata": {},
   "outputs": [
    {
     "data": {
      "text/plain": [
       "[{'2655138': {'geonameid': 2655138,\n",
       "   'name': 'Boston',\n",
       "   'latitude': 52.97633,\n",
       "   'longitude': -0.02664,\n",
       "   'countrycode': 'GB',\n",
       "   'population': 41340,\n",
       "   'timezone': 'Europe/London',\n",
       "   'admin1code': 'ENG'}},\n",
       " {'4930956': {'geonameid': 4930956,\n",
       "   'name': 'Boston',\n",
       "   'latitude': 42.35843,\n",
       "   'longitude': -71.05977,\n",
       "   'countrycode': 'US',\n",
       "   'population': 667137,\n",
       "   'timezone': 'America/New_York',\n",
       "   'admin1code': 'MA'}}]"
      ]
     },
     "execution_count": 7,
     "metadata": {},
     "output_type": "execute_result"
    }
   ],
   "source": [
    "gc.get_cities_by_name('Boston')"
   ]
  },
  {
   "cell_type": "code",
   "execution_count": 12,
   "metadata": {},
   "outputs": [],
   "source": [
    "countries = gc.get_countries_by_names()"
   ]
  },
  {
   "cell_type": "code",
   "execution_count": 13,
   "metadata": {},
   "outputs": [
    {
     "data": {
      "text/plain": [
       "{'geonameid': 3469034,\n",
       " 'name': 'Brazil',\n",
       " 'iso': 'BR',\n",
       " 'iso3': 'BRA',\n",
       " 'isonumeric': 76,\n",
       " 'fips': 'BR',\n",
       " 'continentcode': 'SA',\n",
       " 'capital': 'Brasilia',\n",
       " 'areakm2': 8511965,\n",
       " 'population': 201103330,\n",
       " 'tld': '.br',\n",
       " 'currencycode': 'BRL',\n",
       " 'currencyname': 'Real',\n",
       " 'phone': '55',\n",
       " 'postalcoderegex': '^\\\\d{5}-\\\\d{3}$',\n",
       " 'languages': 'pt-BR,es,en,fr',\n",
       " 'neighbours': 'SR,PE,BO,UY,GY,PY,GF,VE,CO,AR'}"
      ]
     },
     "execution_count": 13,
     "metadata": {},
     "output_type": "execute_result"
    }
   ],
   "source": [
    "countries['Brazil']"
   ]
  },
  {
   "cell_type": "code",
   "execution_count": 14,
   "metadata": {},
   "outputs": [
    {
     "data": {
      "text/plain": [
       "{'geonameid': 6252001,\n",
       " 'name': 'United States',\n",
       " 'iso': 'US',\n",
       " 'iso3': 'USA',\n",
       " 'isonumeric': 840,\n",
       " 'fips': 'US',\n",
       " 'continentcode': 'NA',\n",
       " 'capital': 'Washington',\n",
       " 'areakm2': 9629091,\n",
       " 'population': 310232863,\n",
       " 'tld': '.us',\n",
       " 'currencycode': 'USD',\n",
       " 'currencyname': 'Dollar',\n",
       " 'phone': '1',\n",
       " 'postalcoderegex': '^\\\\d{5}(-\\\\d{4})?$',\n",
       " 'languages': 'en-US,es-US,haw,fr',\n",
       " 'neighbours': 'CA,MX,CU'}"
      ]
     },
     "execution_count": 14,
     "metadata": {},
     "output_type": "execute_result"
    }
   ],
   "source": [
    "countries['United States']"
   ]
  },
  {
   "cell_type": "code",
   "execution_count": 15,
   "metadata": {},
   "outputs": [
    {
     "data": {
      "text/plain": [
       "'US'"
      ]
     },
     "execution_count": 15,
     "metadata": {},
     "output_type": "execute_result"
    }
   ],
   "source": [
    "countries['United States']['iso'] #countrycode"
   ]
  },
  {
   "cell_type": "code",
   "execution_count": null,
   "metadata": {},
   "outputs": [],
   "source": []
  }
 ],
 "metadata": {
  "kernelspec": {
   "display_name": "Python 3",
   "language": "python",
   "name": "python3"
  },
  "language_info": {
   "codemirror_mode": {
    "name": "ipython",
    "version": 3
   },
   "file_extension": ".py",
   "mimetype": "text/x-python",
   "name": "python",
   "nbconvert_exporter": "python",
   "pygments_lexer": "ipython3",
   "version": "3.6.9"
  }
 },
 "nbformat": 4,
 "nbformat_minor": 2
}
